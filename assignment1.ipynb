{
 "cells": [
  {
   "cell_type": "code",
   "execution_count": 2,
   "metadata": {},
   "outputs": [
    {
     "name": "stdout",
     "output_type": "stream",
     "text": [
      "the given number 1 is less than 3\n",
      "the given number 2 is less than 3\n",
      "the given number 3 is equal to 3\n",
      "the given number 4 is less than 10\n",
      "the given number 5 is less than 10\n",
      "the given number 6 is less than 10\n",
      "the given number 7 is less than 10\n",
      "the given number 8 is less than 10\n",
      "the given number 9 is less than 10\n",
      "the given number 10 is equal to 10\n",
      "the given number 11 is greater than 3 and 10\n",
      "the given number 12 is greater than 3 and 10\n",
      "the given number 13 is greater than 3 and 10\n"
     ]
    }
   ],
   "source": [
    "\n",
    "#task1: 1.\n",
    "#Comparing numbers up to 12 with 3 and 10 by using while loop, if, elif,else and printing output statement.\n",
    "n = 12\n",
    "sum = 0\n",
    "i = 0\n",
    "while i<= n:\n",
    "    sum = sum + i\n",
    "    i = i+1\n",
    "    if (i <3):\n",
    "        print('the given number', i, \"is less than 3\")\n",
    "    elif (i == 3):\n",
    "        print('the given number',i, \"is equal to 3\")\n",
    "    elif (i < 10):\n",
    "        print('the given number', i, \"is less than 10\")\n",
    "    elif (i == 10):\n",
    "        print('the given number', i, 'is equal to 10')\n",
    "    else:\n",
    "        print(\"the given number\", i, \"is greater than 3 and 10\")"
   ]
  },
  {
   "cell_type": "code",
   "execution_count": 28,
   "metadata": {},
   "outputs": [
    {
     "name": "stdout",
     "output_type": "stream",
     "text": [
      "2030 , 2065 , 2100 , 2135 , 2170 , 2205 , 2240 , 2275 , 2310 , 2345 , 2380 , 2415 , 2450 , 2485 , 2520 , 2555 , 2590 , 2625 , 2660 , 2695 , 2730 , 2765 , 2800 , 2835 , 2870 , 2905 , 2940 , 2975 , 3010 , 3045 , 3080 , 3115 , 3150 , 3185 , "
     ]
    }
   ],
   "source": [
    "#task1: 2.\n",
    "start_number = 2000\n",
    "end_number = 3200\n",
    "for numbers in range(start_number,end_number+1):\n",
    "    if numbers % 7 == 0 and numbers % 5 == 0:\n",
    "        print(numbers, end=' , ')"
   ]
  },
  {
   "cell_type": "code",
   "execution_count": 17,
   "metadata": {},
   "outputs": [
    {
     "name": "stdout",
     "output_type": "stream",
     "text": [
      "Your first name?: Ravikumar\n",
      "Your last name?: Bankad\n",
      "Bankad_Ravikumar\n"
     ]
    }
   ],
   "source": [
    "#task1: 3.\n",
    "first_name = input(\"Your first name?: \")\n",
    "last_name = input(\"Your last name?: \")\n",
    "print(f\"{last_name}_{first_name}\")\n",
    "#name = (f\"{first_name}_{last_name}\")\n",
    "#print(name[::-1])"
   ]
  },
  {
   "cell_type": "code",
   "execution_count": 27,
   "metadata": {},
   "outputs": [
    {
     "name": "stdout",
     "output_type": "stream",
     "text": [
      "904\n"
     ]
    }
   ],
   "source": [
    "#task1: 4.\n",
    "D = 12\n",
    "r = (D/2)\n",
    "pi = 3.14\n",
    "v = round((4/3)*pi*(r*r*r))\n",
    "print(v)"
   ]
  },
  {
   "cell_type": "code",
   "execution_count": 6,
   "metadata": {},
   "outputs": [
    {
     "name": "stdout",
     "output_type": "stream",
     "text": [
      "Enter sequence of comma seperated numbers: 1,2,3,4\n",
      "['1,2,3,4']\n"
     ]
    }
   ],
   "source": [
    "#task2: 1.\n",
    "number = input(\"Enter sequence of comma seperated numbers: \")\n",
    "list =[ number ]\n",
    "print(list)"
   ]
  },
  {
   "cell_type": "code",
   "execution_count": 1,
   "metadata": {},
   "outputs": [
    {
     "name": "stdout",
     "output_type": "stream",
     "text": [
      "Enter a word: ravikumar\n",
      "ramukivar\n"
     ]
    }
   ],
   "source": [
    "#task2: 3.\n",
    "word = input(\"Enter a word: \")\n",
    "reverse_word = (word[::-1])\n",
    "print(reverse_word)"
   ]
  },
  {
   "cell_type": "code",
   "execution_count": 16,
   "metadata": {},
   "outputs": [
    {
     "name": "stdout",
     "output_type": "stream",
     "text": [
      "\"WE, THE PEOPLE OF INDIA, \n",
      " \t having solemnly resolved constitute India into a SOVEREIGN,!\n",
      " \t \t SOCIALIST, SECULAR, DEMOCRATIC REPUBLIC \n",
      " \t \t  and secure to all the citizens\"\n"
     ]
    }
   ],
   "source": [
    "#task2: 4.\n",
    "print('\"WE, THE PEOPLE OF INDIA, \\n \\t having solemnly resolved constitute India into a SOVEREIGN,!\\n \\t \\t SOCIALIST, SECULAR, DEMOCRATIC REPUBLIC \\n \\t \\t  and secure to all the citizens\"')"
   ]
  },
  {
   "cell_type": "code",
   "execution_count": 42,
   "metadata": {},
   "outputs": [
    {
     "name": "stdout",
     "output_type": "stream",
     "text": [
      "* \r\n",
      "* * \r\n",
      "* * * \r\n",
      "* * * * \r\n",
      "* * * * * \r\n",
      "* * * * \r\n",
      "* * * \r\n",
      "* * \r\n",
      "* \r\n",
      "\r\n"
     ]
    }
   ],
   "source": [
    "#task2: 2.\n",
    "rows = 5\n",
    "for i in range (0, rows):\n",
    "    for j in range(0, i + 1):\n",
    "        print(\"*\", end=' ')\n",
    "    print(\"\\r\")\n",
    "\n",
    "for i in range (rows, 0, -1):\n",
    "    for j in range(0, i -1):\n",
    "        print(\"*\", end=' ')\n",
    "    print(\"\\r\")"
   ]
  },
  {
   "cell_type": "code",
   "execution_count": null,
   "metadata": {},
   "outputs": [],
   "source": []
  }
 ],
 "metadata": {
  "kernelspec": {
   "display_name": "Python 3",
   "language": "python",
   "name": "python3"
  },
  "language_info": {
   "codemirror_mode": {
    "name": "ipython",
    "version": 3
   },
   "file_extension": ".py",
   "mimetype": "text/x-python",
   "name": "python",
   "nbconvert_exporter": "python",
   "pygments_lexer": "ipython3",
   "version": "3.7.1"
  }
 },
 "nbformat": 4,
 "nbformat_minor": 2
}
